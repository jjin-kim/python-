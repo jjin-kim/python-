{
 "cells": [
  {
   "cell_type": "markdown",
   "metadata": {},
   "source": [
    "## 1(82). In a particular jurisdiction, taxi fares consist of a base fare of 4.00, plus 0.25 for every 140 meters traveled. Write a function that takes the distance traveled (in kilometers) as its only parameter and returns the total fare as its only result. Write a main program that demonstrates the function.\n",
    "\n",
    "- Hint: Taxi fares change over time. Use constants to represent the base fare and the variable portion of the fare so that the program can be updated easily when the rates increase.\n",
    "\n"
   ]
  },
  {
   "cell_type": "markdown",
   "metadata": {},
   "source": [
    "- 특정 관할지에서 택시 요금은 기본 요금이 4.00이며 140 미터 당 0.25가 더해집니다. 여행 한 거리 (킬로미터)를 유일한 매개 변수로 사용하고 총 요금을 유일한 결과로 반환하는 함수를 작성하십시오. 함수를 설명하는 메인 프로그램 작성하기\n",
    "\n",
    "- 힌트 : 택시 요금은 시간이 지남에 따라 변합니다. 요금이 증가 할 때 프로그램을 쉽게 업데이트 할 수 있도록 기본 요금과 변동 요금의 변동 부분을 나타 내기 위해 상수를 사용하십시오."
   ]
  },
  {
   "cell_type": "code",
   "execution_count": 4,
   "metadata": {},
   "outputs": [
    {
     "name": "stdout",
     "output_type": "stream",
     "text": [
      "이동한거리를 입력하세요(km)2\n",
      "총 요금은= 7.57 $입니다\n"
     ]
    }
   ],
   "source": [
    "base=4.00\n",
    "distance=int(input('이동한거리를 입력하세요(km)'))\n",
    "\n",
    "def cal(x):\n",
    "    x=x*1000 #단위 변환 1키로를 1000m로\n",
    "    per_cost=(x/140)*0.25\n",
    "    total_cost=base+per_cost\n",
    "    return total_cost\n",
    "\n",
    "print('총 요금은=',round(cal(distance),2),'$입니다')"
   ]
  },
  {
   "cell_type": "markdown",
   "metadata": {},
   "source": [
    "## 2(84). Write a function that takes three numbers as parameters, and returns the median value of those parameters as its result. Include a main program that reads three values from the user and displays their median.\n",
    "\n",
    "- Hint: The median value is the middle of the three values when they are sorted into ascending order. It can be found using if statements, or with a little bit of mathematical creativity."
   ]
  },
  {
   "cell_type": "markdown",
   "metadata": {},
   "source": [
    "- 세 개의 숫자를 매개 변수로 사용하여 매개 변수의 중간 값을 결과로 반환하는 함수를 작성하십시오. 사용자로부터 세 개의 값을 읽고 중앙값을 표시하는 주 프로그램을 포함하십시오.\n",
    "- 힌트 : 중앙값은 오름차순으로 정렬 될 때 세 값 중 중간 값입니다. if 서술문을 사용하거나 수학적 창의력을 약간 사용하여 찾을 수 있습니다."
   ]
  },
  {
   "cell_type": "code",
   "execution_count": 2,
   "metadata": {},
   "outputs": [
    {
     "name": "stdout",
     "output_type": "stream",
     "text": [
      "값을 입력하시오2\n",
      "값을 입력하시오3\n",
      "값을 입력하시오1\n"
     ]
    },
    {
     "data": {
      "text/plain": [
       "2"
      ]
     },
     "execution_count": 2,
     "metadata": {},
     "output_type": "execute_result"
    }
   ],
   "source": [
    "input_list=[]\n",
    "\n",
    "while len(input_list)<3:\n",
    "    a=int(input('값을 입력하시오'))\n",
    "    input_list.append(a)\n",
    "    \n",
    "def cen(a,b,c):\n",
    "    sort=sorted([a,b,c])\n",
    "    return sort[1]\n",
    "    \n",
    "cen(*input_list)"
   ]
  },
  {
   "cell_type": "markdown",
   "metadata": {},
   "source": [
    "## 3(85).  Words like first, second and third are referred to as ordinal numbers. In this exercise, you will write a function that takes an integer as its only parameter and returns a string containing the appropriate English ordinal number as its only result. Your function must handle the integers between 1 and 12 (inclusive). It should return an empty string if a value outside of this range is provided as a parameter. Include a main program that demonstrates your function by displaying each integer from 1 to 12 and its ordinal number. Your main program should only run when your file has not been imported into another program."
   ]
  },
  {
   "cell_type": "markdown",
   "metadata": {},
   "source": [
    "- 첫 번째, 두 번째 및 세 번째와 같은 단어를 서수로 지칭합니다. 이 연습에서는 매개 변수로 정수를 사용하는 함수를 작성하고 해당 영문 서수가 유일한 결과로 포함 된 문자열을 반환합니다. 함수는 1에서 12 사이의 정수를 처리해야합니다. 이 범위 외의 값이 매개 변수로 제공되면 빈 문자열을 반환해야합니다. 1에서 12까지의 정수와 그 서수를 표시하여 기능을 나타내는 주요 프로그램을 포함하십시오. 주 프로그램은 파일을 다른 프로그램으로 가져 오지 않은 경우에만 실행해야합니다."
   ]
  },
  {
   "cell_type": "code",
   "execution_count": 45,
   "metadata": {},
   "outputs": [
    {
     "name": "stdout",
     "output_type": "stream",
     "text": [
      "1에서 12까지 정수를 입력하세요113\n",
      "None\n"
     ]
    }
   ],
   "source": [
    "dic_1={1:'First',\n",
    "        2:'Second',\n",
    "        3:'Third',\n",
    "        4:'Fourth',\n",
    "        5:'Fifth',\n",
    "        6:'Sixth',\n",
    "        7:'Seventh',\n",
    "        8:'Eight',\n",
    "        9:'Ninth',\n",
    "        10:'Tenth',\n",
    "        11:'eleventh',\n",
    "        12:'Twelveth'}\n",
    "\n",
    "x=int(input(\"1에서 12까지 정수를 입력하세요\"))\n",
    "\n",
    "def trans(x):\n",
    "    try:\n",
    "        dic_1.get(x)\n",
    "        return dic_1.get(x)\n",
    "    except:\n",
    "        return ' '\n",
    "    \n",
    "print(trans(x))"
   ]
  },
  {
   "cell_type": "markdown",
   "metadata": {},
   "source": [
    "## 4(88). If you have 3 straws, possibly of differing lengths, it may or may not be possible to lay them down so that they form a triangle when their ends are touching. For example, if all of the straws have a length of 6 inches. then one can easily construct an equilateral triangle using them. However, if one straw is 6 inches. long, while the other two are each only 2 inches. long, then a triangle cannot be formed. In general, if any one length is greater than or equal to the sum of the other two then the lengths cannot be used to form a triangle. Otherwise they can form a triangle. Write a function that determines whether or not three lengths can form a triangle. The function will take 3 parameters and return a Boolean result. In addition, write a program that reads 3 lengths from the user and demonstrates the behaviour of this function."
   ]
  },
  {
   "cell_type": "markdown",
   "metadata": {},
   "source": [
    "- 길이가 다른 3 개의 빨대가있는 경우, 끝이 만지면 삼각형을 그리도록 놓을 수도 있고 안할 수도 있습니다. 예를 들어 모든 빨대의 길이가 6 인치 인 경우 하나를 사용하여 정삼각형을 쉽게 만들 수 있습니다. 그러나, 1 개의 짚이 6 인치 인 경우에. 길고 다른 두 개는 각각 2 인치 밖에되지 않습니다. 길면 삼각형을 만들 수 없습니다. 일반적으로, 길이가 다른 두 길이의 합보다 크거나 같으면 길이를 사용하여 삼각형을 형성 할 수 없습니다. 그렇지 않으면 삼각형을 형성 할 수 있습니다. 세 개의 길이가 삼각형을 형성 할 수 있는지 여부를 결정하는 함수를 작성하십시오. 이 함수는 3 개의 매개 변수를 취하여 부울 결과를 반환합니다. 또한 사용자로부터 3 길이를 읽고이 기능의 작동을 보여주는 프로그램을 작성하십시오."
   ]
  },
  {
   "cell_type": "code",
   "execution_count": 22,
   "metadata": {},
   "outputs": [
    {
     "name": "stdout",
     "output_type": "stream",
     "text": [
      "3개 빨대의 길이를 입력하세요4\n",
      "3개 빨대의 길이를 입력하세요4\n",
      "3개 빨대의 길이를 입력하세요5\n",
      "(4, 4, 5)\n",
      "True\n"
     ]
    }
   ],
   "source": [
    "input_list=[]\n",
    "\n",
    "while len(input_list)<3:\n",
    "    a=int(input('3개 빨대의 길이를 입력하세요'))\n",
    "    input_list.append(a)\n",
    "\n",
    "def true_false(a,b,c):\n",
    "    error_count=0\n",
    "    inch_tup=(a,b,c)\n",
    "    print(inch_tup)\n",
    "    for i in range(3):\n",
    "        if inch_tup[i]>(sum(inch_tup)-inch_tup[i]):\n",
    "            error_count+=1\n",
    "        else:\n",
    "            pass\n",
    "    \n",
    "    if error_count==0:\n",
    "        return True\n",
    "    else:\n",
    "        return False\n",
    "\n",
    "print(true_false(*input_list))"
   ]
  },
  {
   "cell_type": "markdown",
   "metadata": {},
   "source": [
    "## 5(92). A prime number is an integer greater than 1 that is only divisible by one and itself. Write a function that determines whether or not its parameter is prime, returning True if it is, and False otherwise. Write a main program that reads an integer from the user and displays a message indicating whether or not it is prime. Ensure that the main program will not run if the file containing your solution is imported into another program."
   ]
  },
  {
   "cell_type": "markdown",
   "metadata": {},
   "source": [
    "- 소수 (prime number)는 1보다 큰 정수이며 하나와 그 자체로 나눌 수 있습니다. 매개 변수가 소수인지 여부를 결정하고, True이면 True를, 그렇지 않으면 False를 반환하는 함수를 작성하십시오. 사용자로부터 정수를 읽고 주수인지 여부를 나타내는 메시지를 표시하는 주 프로그램을 작성하십시오. 솔루션이 들어있는 파일을 다른 프로그램으로 가져 오면 기본 프로그램이 실행되지 않도록하십시오. ¶"
   ]
  },
  {
   "cell_type": "code",
   "execution_count": 26,
   "metadata": {},
   "outputs": [
    {
     "name": "stdout",
     "output_type": "stream",
     "text": [
      "소수여부를 판단하려고 합니다. 숫자를 입력하세요.3874\n",
      "소수가 아닙니다.\n"
     ]
    }
   ],
   "source": [
    "a=int(input(\"소수여부를 판단하려고 합니다. 숫자를 입력하세요.\"))\n",
    "\n",
    "def truefals(x):\n",
    "    count=0\n",
    "    for i in range(1,x+1):\n",
    "        if x%i==0:\n",
    "            count+=1\n",
    "    \n",
    "    if count==2:\n",
    "        return True\n",
    "    else:\n",
    "        return False\n",
    "\n",
    "def message(x):\n",
    "    if truefals(x)==True:\n",
    "        print(\"소수 입니다.\")\n",
    "    else:\n",
    "        print(\"소수가 아닙니다.\")\n",
    "    \n",
    "message(a)"
   ]
  },
  {
   "cell_type": "code",
   "execution_count": 24,
   "metadata": {},
   "outputs": [
    {
     "data": {
      "text/plain": [
       "0"
      ]
     },
     "execution_count": 24,
     "metadata": {},
     "output_type": "execute_result"
    }
   ],
   "source": [
    "2%1"
   ]
  }
 ],
 "metadata": {
  "kernelspec": {
   "display_name": "Python 3",
   "language": "python",
   "name": "python3"
  },
  "language_info": {
   "codemirror_mode": {
    "name": "ipython",
    "version": 3
   },
   "file_extension": ".py",
   "mimetype": "text/x-python",
   "name": "python",
   "nbconvert_exporter": "python",
   "pygments_lexer": "ipython3",
   "version": "3.6.4"
  }
 },
 "nbformat": 4,
 "nbformat_minor": 2
}
