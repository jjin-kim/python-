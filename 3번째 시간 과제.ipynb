{
 "cells": [
  {
   "cell_type": "markdown",
   "metadata": {},
   "source": [
    "## 1(61). In this exercise you will create a program that computes the average of a collection of values entered by the user. The user will enter 0 as a sentinel value to indicate that no further values will be provided. Your program should display an appropriate error message if the first value entered by the user is 0.\n",
    "\n",
    "- Hint: Because the 0 marks the end of the input it should not be included in the average."
   ]
  },
  {
   "cell_type": "markdown",
   "metadata": {},
   "source": [
    "- 이 연습에서는 사용자가 입력 한 값 모음의 평균을 계산하는 프로그램을 만듭니다. 사용자는 추가 값이 제공되지 않음을 나타 내기 위해 센티널 값으로 0을 입력합니다. 사용자가 입력 한 첫 번째 값이 0이면 프로그램에 적절한 오류 메시지가 표시되어야합니다.\n"
   ]
  },
  {
   "cell_type": "code",
   "execution_count": null,
   "metadata": {},
   "outputs": [
    {
     "name": "stdout",
     "output_type": "stream",
     "text": [
      "값을 입력하시오,종료하려면 0을 입력하세요0\n",
      "첫번째 값은 0이 올 수 없습니다.\n",
      "값을 입력하시오,종료하려면 0을 입력하세요0\n",
      "첫번째 값은 0이 올 수 없습니다.\n",
      "값을 입력하시오,종료하려면 0을 입력하세요1\n",
      "값을 입력하시오,종료하려면 0을 입력하세요2\n",
      "값을 입력하시오,종료하려면 0을 입력하세요3\n",
      "값을 입력하시오,종료하려면 0을 입력하세요4\n",
      "값을 입력하시오,종료하려면 0을 입력하세요0\n",
      "2.5\n"
     ]
    }
   ],
   "source": [
    "input_list=[]\n",
    "\n",
    "while True:\n",
    "    a=int(input(\"값을 입력하시오,종료하려면 0을 입력하세요\"))\n",
    "    \n",
    "    \n",
    "    if a==0:\n",
    "        try:\n",
    "            print(sum(input_list)/len(input_list))\n",
    "        except:\n",
    "            print(\"첫번째 값은 0이 올 수 없습니다.\")\n",
    "\n",
    "        \n",
    "    else:\n",
    "        input_list.append(a)\n",
    "        \n",
    "\n",
    "    "
   ]
  },
  {
   "cell_type": "markdown",
   "metadata": {},
   "source": [
    "## 2(63). Write a program that displays a temperature conversion table for degrees Celsius and degrees Fahrenheit. The table should include rows for all temperatures between 0 and 100 degrees Celsius that are multiples of 10 degrees Celsius. Include appropriate headings on your columns. The formula for converting between degrees Celsius and degrees Fahrenheit can be found on the internet."
   ]
  },
  {
   "cell_type": "markdown",
   "metadata": {},
   "source": [
    "- 섭씨와 화씨의 온도 변환 표를 표시하는 프로그램을 작성하십시오. 표에는 섭씨 10 도의 배수 인 섭씨 0도에서 100도 사이의 모든 온도에 대한 행이 포함되어야합니다. 칼럼에 적절한 표제를 포함 시키십시오. 섭씨와 화씨 사이의 변환 공식은 인터넷에서 찾을 수 있습니다.\n"
   ]
  },
  {
   "cell_type": "code",
   "execution_count": 11,
   "metadata": {},
   "outputs": [
    {
     "name": "stdout",
     "output_type": "stream",
     "text": [
      "    Cel  Faren\n",
      "0     0   32.0\n",
      "1    10   50.0\n",
      "2    20   68.0\n",
      "3    30   86.0\n",
      "4    40  104.0\n",
      "5    50  122.0\n",
      "6    60  140.0\n",
      "7    70  158.0\n",
      "8    80  176.0\n",
      "9    90  194.0\n",
      "10  100  212.0\n"
     ]
    }
   ],
   "source": [
    "from pandas import Series, DataFrame\n",
    "\n",
    "Cel_list=[0,10,20,30,40,50,60,70,80,90,100]\n",
    "Faren_list=[]\n",
    "\n",
    "for i in Cel_list:\n",
    "    a=i*1.8+32\n",
    "    Faren_list.append(a)\n",
    "\n",
    "tem={'Cel':Cel_list,'Faren':Faren_list}\n",
    "\n",
    "data= DataFrame(tem)\n",
    "print(data)"
   ]
  },
  {
   "cell_type": "markdown",
   "metadata": {},
   "source": [
    "## 3(66). Exercise 51 included a table that shows the conversion from letter grades to grade points at a particular academic institution. In this exercise you will compute the grade point average of an arbitrary number of letter grades entered by the user. The user will enter a blank line to indicate that all of the grades have been provided. For example, if the user enters A, followed by C+, followed by B, followed by a blank line then your program should report a grade point average of 3.1. You may find your solution to Exercise 51 helpful when completing this exercise. Your program does not need to do any error checking. It can assume that each value entered by the user will always be a valid letter grade or a blank line."
   ]
  },
  {
   "cell_type": "markdown",
   "metadata": {},
   "source": [
    "- 운동 51은 문자 성적에서 성적으로의 전환을 보여주는 표를 포함했습니다. 특정 학술 기관의 지적. 이 연습에서는 사용자가 입력 한 문자 등급 중 임의의 숫자의 등급 점수 평균. 그만큼 사용자는 모든 성적이 제공되었음을 나타 내기 위해 빈 줄을 입력하게됩니다. 에 대한 예를 들어, 사용자가 A를 입력하고 C +, B, 빈칸 순으로 입력하면 프로그램에서 평균 3.1 점을보고해야합니다. 이 연습을 끝내면 연습 문제 51에 대한 해결책을 찾을 수 있습니다. 프로그램에서 오류를 검사 할 필요가 없습니다. 각 값 사용자가 입력 한 문자는 항상 유효한 문자 또는 빈 줄입니다.\n"
   ]
  },
  {
   "cell_type": "code",
   "execution_count": null,
   "metadata": {},
   "outputs": [],
   "source": []
  },
  {
   "cell_type": "code",
   "execution_count": 7,
   "metadata": {},
   "outputs": [
    {
     "name": "stdout",
     "output_type": "stream",
     "text": [
      "성적을 입력하시오.A\n",
      "성적을 입력하시오.C+\n",
      "성적을 입력하시오.B\n",
      "성적을 입력하시오.\n",
      "3.1\n"
     ]
    }
   ],
   "source": [
    "sum=0\n",
    "real=[]\n",
    "grade={'A+':4.0,\n",
    "      'A':4.0,\n",
    "      'A-':3.7,\n",
    "      'B+':3.3,\n",
    "      'B':3.0,\n",
    "      'B-':2.7,\n",
    "      'C+':2.3,\n",
    "      'C':2.0,\n",
    "      'C-':1.7,\n",
    "      'D+':1.3,\n",
    "      'D':1.0,\n",
    "      'F':0}\n",
    "\n",
    "while True:\n",
    "    a=input(\"성적을 입력하시오.\")\n",
    "    if a=='':\n",
    "        for i in real:\n",
    "            sum+=grade.get(i)\n",
    "        print(sum/len(real))\n",
    "        break   \n",
    "    else:\n",
    "        real.append(a)\n",
    "        "
   ]
  },
  {
   "cell_type": "markdown",
   "metadata": {},
   "source": [
    "## 4(67). A particular zoo determines the price of admission based on the age of the guest. Guests 2 years of age and less are admitted without charge. Children between 3 and 12 years of age cost 14.00. Seniors aged 65 years and over cost 18.00. Admission for all other guests is 23.00. Create a program that begins by reading the ages of all of the guests in a group from the user, with one age entered on each line. The user will enter a blank line to indicate that there are no more guests in the group. Then your program should display the admission cost for the group with an appropriate message. The cost should be displayed using two decimal places."
   ]
  },
  {
   "cell_type": "markdown",
   "metadata": {},
   "source": [
    "- 특정 동물원은 손님의 나이를 기준으로 입장료를 결정합니다. 2 세 이하의 투숙객은 무료로 입장 할 수 있습니다. 3 세 ~ 12 세는 14.00입니다. 노인 65 세 이상 18.00 비용. 입장 다른 모든 손님은 23.00입니다. 그룹에있는 모든 게스트의 연령을 읽는 것으로 시작하는 프로그램 만들기 사용자로부터 각 행에 하나의 연령이 입력됩니다. 사용자는에 대한 빈 줄을 입력합니다. 그룹에 손님이 더 이상 없음을 나타냅니다. 그런 다음 프로그램이 표시되어야합니다. 적절한 메시지가있는 그룹의 입장료. 비용은 소수점 두 자리를 사용하여 표시됩니다."
   ]
  },
  {
   "cell_type": "code",
   "execution_count": null,
   "metadata": {
    "scrolled": true
   },
   "outputs": [
    {
     "name": "stdout",
     "output_type": "stream",
     "text": [
      "나이를 입력하세요. 입력을 완료하려면 빈줄을 입력하세요2\n",
      "나이를 입력하세요. 입력을 완료하려면 빈줄을 입력하세요3\n",
      "나이를 입력하세요. 입력을 완료하려면 빈줄을 입력하세요\n",
      "그룹의 입장료는: 14.0\n"
     ]
    }
   ],
   "source": [
    "cost_sum=0\n",
    "\n",
    "def cost(x):\n",
    "    if age<3:\n",
    "        return 0\n",
    "    elif 2<age<13:\n",
    "        return 14.00\n",
    "    elif 64<age:\n",
    "        return 18.00\n",
    "    else:\n",
    "        return 23.00\n",
    "\n",
    "while True:\n",
    "    a=input(\"나이를 입력하세요. 입력을 완료하려면 빈줄을 입력하세요\")\n",
    "    \n",
    "    if a=='':\n",
    "        print(\"그룹의 입장료는:\",cost_sum)\n",
    "    else:\n",
    "        age=int(a)\n",
    "        cost_sum+=cost(age)\n",
    "    \n",
    "        \n",
    "    \n"
   ]
  },
  {
   "cell_type": "markdown",
   "metadata": {},
   "source": [
    "##  5(72). A string is a palindrome if it is identical forward and backward. For example “anna”, “civic”, “level” and “hannah” are all examples of palindromicwords. Write a program that reads a string from the user and uses a loop to determines whether or not it is a palindrome. Display the result, including a meaningful output message.There are numerous phrases that are palindromes when spacing is ignored. Examples include “go dog”, “flee to me remote elf” and “some men interpret nine memos”, among many others. Extend your solution to Exercise 72 so that it ignores spacing while determining whether or not a string is a palindrome. For an additional challenge, extend your solution so that is also ignores punctuation marks and treats uppercase and lowercase letters as equivalent."
   ]
  },
  {
   "cell_type": "markdown",
   "metadata": {},
   "source": [
    "- 문자열은 전후방이 동일 할 경우 회문입니다. 예를 들어 \"anna\", \"civic\", \"level\"및 \"hannah\"는 모두 회문어의 예입니다. 사용자로부터 문자열을 읽고 루프를 사용하여 그것이 회문인지 여부를 결정하는 프로그램을 작성하십시오. 의미있는 출력 메시지를 포함하여 결과를 표시하십시오. 간격을 무시할 때 문장이되는 수많은 문구가 있습니다. 예를 들면 \"go go\", \"elf to me to remote elf\", \"어떤 사람들은 9 개의 메모를 해석합니다\"등이 있습니다. 문자열이 회문인지 여부를 결정하는 동안 간격을 무시하도록 솔루션을 실습 72로 확장하십시오. 추가로 문제를 해결하려면 구두점을 무시하고 대문자와 소문자를 동등하게 취급하도록 솔루션을 확장하십시오."
   ]
  },
  {
   "cell_type": "code",
   "execution_count": 17,
   "metadata": {},
   "outputs": [
    {
     "name": "stdout",
     "output_type": "stream",
     "text": [
      "문자열을 입력하시오.기밎\n",
      "회문이 아닙니다\n"
     ]
    }
   ],
   "source": [
    "sort_list=[]\n",
    "revers_sort_list=[]\n",
    "\n",
    "real_str=input(\"문자열을 입력하시오.\")\n",
    "def truefalse(real_str):#회문인지 아닌지 판별하는 함수.\n",
    "    sort_list=[]\n",
    "    revers_sort_list=[]\n",
    "    diffcount=0\n",
    "    \n",
    "    for i in real_str: #입력받은 문자열을 모두 소문자로 바꾸고, 빈칸 그리고 구두점은 sort(무시)한다. 그리고 그 값들을 sort_list에 저장\n",
    "        if i==' ':\n",
    "            pass\n",
    "        elif i=='.':\n",
    "            pass\n",
    "        else:\n",
    "            sort_list.append(i.lower())\n",
    "      \n",
    "    for i in sort_list: #sort_list의 값들의 순서를 반대로 바꾸어 revers_sort_list에 다시 저장.\n",
    "        revers_sort_list.insert(0,i)\n",
    "    \n",
    "    for i in range(len(sort_list)):\n",
    "        if sort_list[i]==revers_sort_list[i]:\n",
    "            pass\n",
    "        else:\n",
    "            diffcount+=1\n",
    "    \n",
    "    if diffcount==0:\n",
    "        return '회문입니다.'\n",
    "    else:\n",
    "        return '회문이 아닙니다'\n",
    "\n",
    "print(truefalse(real_str))"
   ]
  },
  {
   "cell_type": "markdown",
   "metadata": {},
   "source": [
    "## 6(74). In this exercise you will create a program that displays a multiplication table that shows the products of all combinations of integers from 1 times 1 up to and including 10 times 10. Your multiplication table should include a row of labels across the top of it containing the numbers 1 through 10. It should also include labels down the left side consisting of the numbers 1 through 10. The expected output from the program .is shown below: When completing this exercise you will probably find it helpful to be able to print out a value without moving down to the next line. This can be accomplished by added end=\"\" as the last parameter to your print statement. For example, print(\"A\") will display the letter A and then move down to the next line. The statement print(\"A\", end=\"\") will display the letter A without moving down to the next line, causing the next print statement to display its result on the same line as the letter A."
   ]
  },
  {
   "cell_type": "markdown",
   "metadata": {},
   "source": [
    "- 이 연습에서는 1 배에서 10 배까지의 모든 정수 조합의 곱을 표시하는 곱셈 테이블을 표시하는 프로그램을 작성합니다. 곱셈 표에는 1에서 10까지의 숫자가 포함됩니다. 왼쪽에서 1부터 10까지의 숫자로 구성된 레이블도 포함해야합니다. 프로그램의 예상 출력은 아래에 나와 있습니다.이 연습을 마친 후에는 인쇄 할 수있는 것이 도움이 될 것입니다 다음 행으로 이동하지 않고도 이는 print 문에 마지막 매개 변수로 end = \"\"를 추가하여 수행 할 수 있습니다. 예를 들어, print ( \"A\")는 문자 A를 표시하고 다음 줄로 이동합니다. print ( \"A\", end = \"\") 문은 다음 줄로 이동하지 않고 문자 A를 표시하므로 다음 인쇄 문이 그 결과를 문자 A와 같은 줄에 표시합니다.\n"
   ]
  },
  {
   "cell_type": "code",
   "execution_count": 22,
   "metadata": {
    "scrolled": false
   },
   "outputs": [
    {
     "ename": "NameError",
     "evalue": "name 'list_2' is not defined",
     "output_type": "error",
     "traceback": [
      "\u001b[1;31m---------------------------------------------------------------------------\u001b[0m",
      "\u001b[1;31mNameError\u001b[0m                                 Traceback (most recent call last)",
      "\u001b[1;32m<ipython-input-22-3b6257870fcc>\u001b[0m in \u001b[0;36m<module>\u001b[1;34m()\u001b[0m\n\u001b[0;32m      5\u001b[0m \u001b[1;33m\u001b[0m\u001b[0m\n\u001b[0;32m      6\u001b[0m \u001b[1;33m\u001b[0m\u001b[0m\n\u001b[1;32m----> 7\u001b[1;33m \u001b[0mlist_2\u001b[0m\u001b[1;33m\u001b[0m\u001b[0m\n\u001b[0m\u001b[0;32m      8\u001b[0m \u001b[1;33m\u001b[0m\u001b[0m\n\u001b[0;32m      9\u001b[0m \u001b[1;33m\u001b[0m\u001b[0m\n",
      "\u001b[1;31mNameError\u001b[0m: name 'list_2' is not defined"
     ]
    }
   ],
   "source": [
    "list_1=[1,2,3,4,5,6,7,8,9,10]\n",
    "\n",
    "for i in range(2,11):\n",
    "    list_i=[i]\n",
    "    \n",
    "\n",
    "    \n",
    "    "
   ]
  },
  {
   "cell_type": "markdown",
   "metadata": {},
   "source": [
    "## 7(75). The greatest common divisor of two positive integers, n and m, is the largest number, d, which divides evenly into both n and m. There are several algorithms that can be used to solve this problem, including:\n",
    "\n",
    "- Initialize d to the smaller of m and n.\n",
    "- While d does not evenly divide m or d does not evenly divide n do Decrease the value of d by 1\n",
    "- Report d as the greatest common divisor of n and m\n",
    "\n",
    "## Write a program that reads two positive integers from the user and uses this algorithm to determine and report their greatest common divisor."
   ]
  },
  {
   "cell_type": "markdown",
   "metadata": {},
   "source": [
    "- 두 개의 양의 정수 n과 m의 최대 공약수는 n과 m으로 균등하게 나눠지는 가장 큰 수인 d입니다. 이 문제를 해결하는 데 사용할 수있는 알고리즘은 다음과 같습니다.\n",
    "\n",
    "\n",
    "\n",
    "- d를 m과 n 중 작은 값으로 초기화합니다.\n",
    "- d가 m을 균등하게 나누지 않거나 d가 n을 균등하게 나눈 것이 아니라면 d의 값을 1 씩 감소시킵니다.\n",
    "- d를 n과 m의 가장 큰 공약수로보고하십시오.\n",
    "\n",
    "\n",
    "\n",
    "- 사용자로부터 2 개의 양의 정수를 읽고이 알고리즘을 사용하여 가장 큰 공통 제수를 결정하고보고하는 프로그램을 작성하십시오.\n",
    "\n",
    "\n"
   ]
  }
 ],
 "metadata": {
  "kernelspec": {
   "display_name": "Python 3",
   "language": "python",
   "name": "python3"
  },
  "language_info": {
   "codemirror_mode": {
    "name": "ipython",
    "version": 3
   },
   "file_extension": ".py",
   "mimetype": "text/x-python",
   "name": "python",
   "nbconvert_exporter": "python",
   "pygments_lexer": "ipython3",
   "version": "3.6.4"
  }
 },
 "nbformat": 4,
 "nbformat_minor": 2
}
