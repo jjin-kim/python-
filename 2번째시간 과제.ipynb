{
 "cells": [
  {
   "cell_type": "markdown",
   "metadata": {},
   "source": [
    "## 1. Write a program that reads integers from the user and stores them in a list. Use 0 as a sentinel value to mark the end of the input. Once all of the values have been read your program should display them (except for the 0) in reverse order, with one value appearing on each line."
   ]
  },
  {
   "cell_type": "markdown",
   "metadata": {},
   "source": [
    "- 사용자로부터 정수를 읽고 목록에 저장하는 프로그램을 작성하십시오. 0을 센티널 값으로 사용하여 입력 끝을 표시합니다. 모든 값을 읽은 후 프로그램은 역순으로 0을 제외하고 각 행에 하나의 값을 표시해야합니다."
   ]
  },
  {
   "cell_type": "code",
   "execution_count": 13,
   "metadata": {},
   "outputs": [
    {
     "name": "stdout",
     "output_type": "stream",
     "text": [
      "숫자를 입력하시오,만약 입력을 종료하려면 0을 입력하시오2\n",
      "숫자를 입력하시오,만약 입력을 종료하려면 0을 입력하시오3\n",
      "숫자를 입력하시오,만약 입력을 종료하려면 0을 입력하시오0\n",
      "3\n",
      "2\n"
     ]
    }
   ],
   "source": [
    "list_1=[]\n",
    "list_display=[]\n",
    "while True:\n",
    "    a=int(input(\"숫자를 입력하시오,만약 입력을 종료하려면 0을 입력하시오\"))\n",
    "    if a==0:\n",
    "        for i in list_1:\n",
    "            list_display.insert(0,i)\n",
    "        for n in list_display:\n",
    "            print(n)\n",
    "        break;\n",
    "    else:\n",
    "        list_1.append(a)"
   ]
  },
  {
   "cell_type": "code",
   "execution_count": 18,
   "metadata": {},
   "outputs": [
    {
     "name": "stdout",
     "output_type": "stream",
     "text": [
      "숫자를 입력하시오,만약 입력을 종료하려면 0을 입력하시오1\n",
      "숫자를 입력하시오,만약 입력을 종료하려면 0을 입력하시오2\n",
      "숫자를 입력하시오,만약 입력을 종료하려면 0을 입력하시오3\n",
      "숫자를 입력하시오,만약 입력을 종료하려면 0을 입력하시오4\n",
      "숫자를 입력하시오,만약 입력을 종료하려면 0을 입력하시오5\n",
      "숫자를 입력하시오,만약 입력을 종료하려면 0을 입력하시오6\n",
      "숫자를 입력하시오,만약 입력을 종료하려면 0을 입력하시오0\n",
      "6\n",
      "5\n",
      "4\n",
      "3\n",
      "2\n",
      "1\n"
     ]
    }
   ],
   "source": [
    "list_1=[]\n",
    "list_display=[]\n",
    "while True:\n",
    "    a=int(input(\"숫자를 입력하시오,만약 입력을 종료하려면 0을 입력하시오\"))\n",
    "    if a==0:\n",
    "        for i in range(len(list_1)-1,-1,-1): #reverse를 이용 할 수도 있다. list_1.reverse()\n",
    "            print(list_1[i])\n",
    "        break;\n",
    "    else:\n",
    "        list_1.append(a)"
   ]
  },
  {
   "cell_type": "markdown",
   "metadata": {},
   "source": [
    "## 2. In this exercise, you will create a program that reads words from the user until the user enters a blank line. After the user enters a blank line your program should display each word entered by the user exactly once. The words should be displayed in the same order that they were entered. For example, if the user enters:\n",
    "\n",
    "##### first\n",
    "##### second\n",
    "##### first\n",
    "##### third\n",
    "##### second\n",
    "### then your program should display:\n",
    "##### first\n",
    "##### second\n",
    "##### third"
   ]
  },
  {
   "cell_type": "markdown",
   "metadata": {},
   "source": [
    "- 이 연습에서는 사용자가 빈 줄을 입력 할 때까지 사용자의 단어를 읽는 프로그램을 만듭니다. 사용자가 빈 줄을 입력하면 프로그램은 사용자가 입력 한 각 단어를 정확히 한 번 표시해야합니다. 단어는 입력 된 순서대로 표시되어야합니다. 예를 들어, 사용자가 다음을 입력하면 :\n",
    "\n",
    "\n",
    "\n",
    "\n",
    "\n",
    "\n",
    "\n",
    "\n",
    "\n",
    "\n",
    "\n",
    "\n",
    "\n",
    "\n"
   ]
  },
  {
   "cell_type": "code",
   "execution_count": 19,
   "metadata": {
    "scrolled": false
   },
   "outputs": [
    {
     "name": "stdout",
     "output_type": "stream",
     "text": [
      "단어를 입력하세요,만약 빈줄을 입력하면 입력이 종료됩니다.\n"
     ]
    }
   ],
   "source": [
    "word=[]\n",
    "while 1:\n",
    "    a=input(\"단어를 입력하세요,만약 빈줄을 입력하면 입력이 종료됩니다.\")\n",
    "    if a=='':\n",
    "        break;\n",
    "    else:  \n",
    "        word+=[a]\n",
    "        \n",
    "b=set(word)\n",
    "for i in b:\n",
    "    print(i)"
   ]
  },
  {
   "cell_type": "code",
   "execution_count": null,
   "metadata": {},
   "outputs": [],
   "source": []
  },
  {
   "cell_type": "markdown",
   "metadata": {},
   "source": [
    "## 3. Create a program that reads integers from the user until a blank line is entered. Once all of the integers have been read your program should display all of the negative numbers, followed by all of the zeros, followed by all of the positive numbers.Within each group the numbers should be displayed in the same order that they were entered by the user. For example, if the user enters the values 3, -4, 1, 0, -1, 0, and -2 then your program should output the values -4, -1, -2, 0, 0, 3, and 1. Your program should display each value on its own line."
   ]
  },
  {
   "cell_type": "markdown",
   "metadata": {},
   "source": [
    "- 빈 줄을 입력 할 때까지 사용자로부터 정수를 읽는 프로그램을 만듭니다. 일단 모든 정수가 읽혀지면 당신의 프로그램은 모든 음수를 표시하고 그 다음에 모든 0이 뒤따라오고 모든 양수가 뒤따라야합니다. 각 그룹 내에서 숫자는 입력 된 것과 동일한 순서로 표시되어야합니다 사용자. 예를 들어 사용자가 3, -4, 1, 0, -1, 0 및 -2 값을 입력하면 프로그램은 -4, -1, -2, 0, 0, 3 및 1 값을 출력해야합니다. 프로그램은 각 값을 자체 행에 표시해야합니다."
   ]
  },
  {
   "cell_type": "code",
   "execution_count": 15,
   "metadata": {},
   "outputs": [
    {
     "name": "stdout",
     "output_type": "stream",
     "text": [
      "정수를 입력하세요,만약 빈줄 입력하면 입력이 종료됩니다.-3\n",
      "정수를 입력하세요,만약 빈줄 입력하면 입력이 종료됩니다.-4\n",
      "정수를 입력하세요,만약 빈줄 입력하면 입력이 종료됩니다.-4\n",
      "정수를 입력하세요,만약 빈줄 입력하면 입력이 종료됩니다.0\n",
      "정수를 입력하세요,만약 빈줄 입력하면 입력이 종료됩니다.0\n",
      "정수를 입력하세요,만약 빈줄 입력하면 입력이 종료됩니다.5\n",
      "정수를 입력하세요,만약 빈줄 입력하면 입력이 종료됩니다.5\n",
      "정수를 입력하세요,만약 빈줄 입력하면 입력이 종료됩니다.-9\n",
      "정수를 입력하세요,만약 빈줄 입력하면 입력이 종료됩니다.\n",
      "[-3, -4, -4, -9, 0, 0, 5, 5]\n"
     ]
    }
   ],
   "source": [
    "minus=[]\n",
    "plus=[]\n",
    "zero=[]\n",
    "total=[]\n",
    "while 1:\n",
    "    a=input(\"정수를 입력하세요,만약 빈줄 입력하면 입력이 종료됩니다.\")\n",
    "    if a=='':\n",
    "        break;\n",
    "    b=int(a)\n",
    "    if b>0:\n",
    "        plus.append(b)\n",
    "    elif b<0:\n",
    "        minus.append(b)\n",
    "    else:\n",
    "        zero.append(b)\n",
    "\n",
    "total=minus+zero+plus\n",
    "print(total)"
   ]
  },
  {
   "cell_type": "markdown",
   "metadata": {},
   "source": [
    "## 4. An integer, n, is said to be perfect when the sum of all of the proper divisors of n is equal to n. For example, 28 is a perfect number because its proper divisors are 1, 2, 4, 7 and 14, and 1 + 2 + 4 + 7 + 14 = 28. Write a function that determines whether or not a positive integer is perfect. Your function will take one parameter. If that parameter is a perfect number then your function will return true. Otherwise it will return false. In addition, write a main program that uses your function to identify and display all of the perfect numbers between 1 and 10,000. Import your solution to Exercise 109 when completing this task."
   ]
  },
  {
   "cell_type": "markdown",
   "metadata": {},
   "source": [
    "- \n",
    "정수 n은 n의 모든 적절한 제수의 합이 n 일 때 완벽하다고 말합니다. 예를 들어, 28은 1, 2, 4, 7 및 14, 1 + 2 + 4 + 7 + 14 = 28이므로 적절한 수입니다. 양의 정수가 완전한지 여부를 결정하는 함수를 작성하십시오. 함수는 하나의 매개 변수를 취합니다. 이 매개 변수가 완벽한 숫자이면 함수는 true를 반환합니다. 그렇지 않으면 거짓을 반환합니다. 또한 함수를 사용하여 1에서 10,000 사이의 모든 완벽한 숫자를 식별하고 표시하는 기본 프로그램을 작성하십시오. 이 작업을 완료 할 때 실습 109에 솔루션을 가져옵니다. ¶"
   ]
  },
  {
   "cell_type": "code",
   "execution_count": 27,
   "metadata": {},
   "outputs": [
    {
     "name": "stdout",
     "output_type": "stream",
     "text": [
      "양의정수가 완전한지 판별하려고 합니다. 양의 정수를 입력하시오11\n",
      "1\n"
     ]
    },
    {
     "data": {
      "text/plain": [
       "False"
      ]
     },
     "execution_count": 27,
     "metadata": {},
     "output_type": "execute_result"
    }
   ],
   "source": [
    "a=input(\"양의정수가 완전한지 판별하려고 합니다. 양의 정수를 입력하시오\")\n",
    "b=int(a)\n",
    "\n",
    "    \n",
    "def truefalse(b):\n",
    "    total_sum=0\n",
    "    for i in range(1,b):\n",
    "        if b%i==0:\n",
    "            total_sum+=i\n",
    "            print(total_sum)\n",
    "            \n",
    "    if b==total_sum:\n",
    "        return True\n",
    "    else:\n",
    "        return False\n",
    "\n",
    "truefalse(b)"
   ]
  },
  {
   "cell_type": "code",
   "execution_count": 40,
   "metadata": {},
   "outputs": [
    {
     "data": {
      "text/plain": [
       "[1, False]"
      ]
     },
     "execution_count": 40,
     "metadata": {},
     "output_type": "execute_result"
    }
   ],
   "source": [
    "result_list=[]\n",
    "\n",
    "def truefalse(b):\n",
    "    total_sum=0\n",
    "    for i in range(1,b):\n",
    "        if b%i==0:\n",
    "            total_sum+=i\n",
    "            \n",
    "    if b==total_sum:\n",
    "        return True\n",
    "    else:\n",
    "        return False\n",
    "\n",
    "for i in range(1,10001):\n",
    "    result_list+=[i,truefalse(i)]\n",
    "    \n",
    "result_list"
   ]
  },
  {
   "cell_type": "markdown",
   "metadata": {},
   "source": [
    "## 5. When writing out a list of items in English, one normally separates the items with commas. In addition, theword “and” is normally included before the last item, unless the list only contains one item. Consider the following four lists:\n",
    "- apples\n",
    "- apples and oranges\n",
    "- apples, oranges and bananas\n",
    "- apples, oranges, bananas and lemons\n",
    "\n",
    "## Write a function that takes a list of strings as its only parameter. Your function should return a string that contains all of the items in the list formatted in the manner described previously as its only result. While the examples shown previously only include lists containing four elements or less, your function should behave correctly for lists of any length. Include a main program that reads several items from the user, formats them by calling your function, and then displays the result returned by the function."
   ]
  },
  {
   "cell_type": "markdown",
   "metadata": {},
   "source": [
    "- 영어로 항목 목록을 작성할 때 일반적으로 항목을 쉼표로 구분합니다. 또한 목록에 하나의 항목 만 포함되어 있지 않으면 \"and\"라는 단어가 일반적으로 마지막 항목 앞에 포함됩니다. 다음 네 가지 목록을 고려하십시오.\n",
    "- 사과\n",
    "- 사과와 오렌지\n",
    "- 사과, 오렌지 및 바나나\n",
    "- 사과, 오렌지, 바나나 및 레몬\n",
    "\n",
    "- 유일한 매개 변수로 문자열 목록을 사용하는 함수를 작성하십시오. 함수는 이전에 설명 된 방식으로 형식화 된 목록의 모든 항목을 유일한 문자열로 반환해야합니다. 이전에 표시된 예제에는 네 개 요소 이하를 포함하는 목록 만 포함되어 있지만 함수는 모든 길이의 목록에 대해 올바르게 작동해야합니다. 사용자로부터 여러 항목을 읽고, 함수를 호출하여 서식을 지정한 다음 함수가 반환 한 결과를 표시하는 주 프로그램을 포함하십시오.\n",
    "\n",
    "\n"
   ]
  },
  {
   "cell_type": "code",
   "execution_count": 20,
   "metadata": {},
   "outputs": [
    {
     "name": "stdout",
     "output_type": "stream",
     "text": [
      "단어를 입력하시오rlawls\n",
      "단어를 입력하시오rl\n",
      "단어를 입력하시오rlt\n",
      "단어를 입력하시오\n"
     ]
    }
   ],
   "source": [
    "list_1=[]\n",
    "\n",
    "while 2:\n",
    "    enter=input(\"단어를 입력하시오\")\n",
    "    \n",
    "    if enter=='':\n",
    "        break\n",
    "    else:\n",
    "        list_1+=[enter]\n",
    "        \n",
    "def trans(list):\n",
    "     if len(list_1)==1:\n",
    "            \n",
    "\n",
    "        "
   ]
  },
  {
   "cell_type": "code",
   "execution_count": 25,
   "metadata": {},
   "outputs": [
    {
     "data": {
      "text/plain": [
       "3"
      ]
     },
     "execution_count": 25,
     "metadata": {},
     "output_type": "execute_result"
    }
   ],
   "source": [
    "len(list_1)"
   ]
  },
  {
   "cell_type": "markdown",
   "metadata": {},
   "source": [
    "## 6. In order to win the top prize in a particular lottery, one must match all 6 numbers on his or her ticket to the 6 numbers between 1 and 49 that are drawn by the lottery organizer. Write a program that generates a random selection of 6 numbers for a lottery ticket. Ensure that the 6 numbers selected do not contain any duplicates. Display the numbers in ascending order."
   ]
  },
  {
   "cell_type": "markdown",
   "metadata": {},
   "source": [
    "- 영어로 항목 목록을 작성할 때 일반적으로 항목을 쉼표로 구분합니다. 또한 목록에 하나의 항목 만 포함되어 있지 않으면 \"and\"라는 단어가 일반적으로 마지막 항목 앞에 포함됩니다. 특정 추첨에서 최우수상을 받으려면 추첨 주최자가 그려야하는 1과 49 사이의 6 개의 숫자에 해당하는 6 개의 숫자를 모두 일치시켜야합니다. 복권에 6 개의 숫자를 무작위로 선택하는 프로그램을 작성하십시오. 선택한 6 개의 숫자에 중복 된 것이 없는지 확인하십시오. 숫자를 오름차순으로 표시하십시오.\n"
   ]
  },
  {
   "cell_type": "code",
   "execution_count": 105,
   "metadata": {},
   "outputs": [
    {
     "data": {
      "text/plain": [
       "[1, 4, 10, 14, 15, 16, 17, 24, 27, 29, 30, 31, 32, 35, 36, 41, 46, 47]"
      ]
     },
     "execution_count": 105,
     "metadata": {},
     "output_type": "execute_result"
    }
   ],
   "source": [
    "ball_num=0\n",
    "\n",
    "while ball_num<6:\n",
    "    new_ball=random.randint(1,49)\n",
    "    \n",
    "    try:\n",
    "        lotto_list.index(new_ball)\n",
    "    except:\n",
    "        lotto_list.append(new_ball)\n",
    "        ball_num+=1\n",
    "        \n",
    "lotto_list.sort()\n",
    "lotto_list"
   ]
  },
  {
   "cell_type": "markdown",
   "metadata": {},
   "source": [
    "## 7. Create a program that determines and displays the number of unique characters in a string entered by the user. For example, Hello, World! has 10 unique characters whilezzzhas only one unique character. Use a dictionary or set to solve this problem."
   ]
  },
  {
   "cell_type": "markdown",
   "metadata": {},
   "source": [
    "- 사용자가 입력 한 문자열에서 고유 한 문자 수를 결정하고 표시하는 프로그램을 만듭니다. 예 : Hello, World! 10 개의 고유 한 문자가 있습니다. 하나는 유일한 문자입니다. 사전을 사용하거나이 문제를 해결하기 위해 설정하십시오.\n"
   ]
  },
  {
   "cell_type": "markdown",
   "metadata": {},
   "source": [
    "## 8. Two words are anagrams if they contain all of the same letters, but in a different order. For example, “evil” and “live” are anagrams because each contains one e, one i, one l, and one v. Create a program that reads two strings from the user, determines whether or not they are anagrams, and reports the result."
   ]
  },
  {
   "cell_type": "markdown",
   "metadata": {},
   "source": [
    "- 두 글자가 동일한 글자를 모두 포함하지만 다른 순서로 포함되어 있으면 아나그램입니다. 예를 들어, \"악마\"와 \"라이브\"는 각각 an, i, l, 그리고 하나의 v를 포함하기 때문에 anagrams입니다. 사용자로부터 두 개의 문자열을 읽고, 그들이 anagrams인지 아닌지를 결정하고, 결과.\n"
   ]
  }
 ],
 "metadata": {
  "kernelspec": {
   "display_name": "Python 3",
   "language": "python",
   "name": "python3"
  },
  "language_info": {
   "codemirror_mode": {
    "name": "ipython",
    "version": 3
   },
   "file_extension": ".py",
   "mimetype": "text/x-python",
   "name": "python",
   "nbconvert_exporter": "python",
   "pygments_lexer": "ipython3",
   "version": "3.6.4"
  }
 },
 "nbformat": 4,
 "nbformat_minor": 2
}
